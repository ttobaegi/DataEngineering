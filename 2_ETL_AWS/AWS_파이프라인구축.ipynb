{
 "cells": [
  {
   "cell_type": "markdown",
   "id": "549f4f08",
   "metadata": {},
   "source": [
    "## import module"
   ]
  },
  {
   "cell_type": "code",
   "execution_count": 12,
   "id": "d90db2b1",
   "metadata": {
    "ExecuteTime": {
     "end_time": "2021-05-29T06:52:20.791569Z",
     "start_time": "2021-05-29T06:52:20.775105Z"
    }
   },
   "outputs": [],
   "source": [
    "import pandas as pd\n",
    "import numpy as np\n",
    "import matplotlib.pyplot as plt\n",
    "%matplotlib inline\n",
    "plt.rcParams['font.family'] = 'Malgun Gothic'  # (Windows 용) 한글 출력을 위한 글꼴 설정\n",
    "\n",
    "import os\n",
    "import sys\n",
    "import urllib.request\n",
    "\n",
    "#!pip install pymysql\n",
    "import pymysql\n",
    "import logging\n",
    "import sqlite3"
   ]
  },
  {
   "cell_type": "markdown",
   "id": "20319967",
   "metadata": {},
   "source": [
    "## api request code"
   ]
  },
  {
   "cell_type": "markdown",
   "id": "b2c50595",
   "metadata": {
    "heading_collapsed": true
   },
   "source": [
    "### naver api example code"
   ]
  },
  {
   "cell_type": "code",
   "execution_count": null,
   "id": "886e50fd",
   "metadata": {
    "hidden": true
   },
   "outputs": [],
   "source": [
    "client_id = \"YOUR_CLIENT_ID\"\n",
    "client_secret = \"YOUR_CLIENT_SECRET\"\n",
    "url = \"https://openapi.naver.com/v1/datalab/search\";\n",
    "body = \"{\\\"startDate\\\":\\\"2017-01-01\\\",\\\"endDate\\\":\\\"2017-04-30\\\",\\\"timeUnit\\\":\\\"month\\\",\\\"keywordGroups\\\":[{\\\"groupName\\\":\\\"한글\\\",\\\"keywords\\\":[\\\"한글\\\",\\\"korean\\\"]},{\\\"groupName\\\":\\\"영어\\\",\\\"keywords\\\":[\\\"영어\\\",\\\"english\\\"]}],\\\"device\\\":\\\"pc\\\",\\\"ages\\\":[\\\"1\\\",\\\"2\\\"],\\\"gender\\\":\\\"f\\\"}\";\n",
    "\n",
    "request = urllib.request.Request(url)\n",
    "request.add_header(\"X-Naver-Client-Id\",client_id)\n",
    "request.add_header(\"X-Naver-Client-Secret\",client_secret)\n",
    "request.add_header(\"Content-Type\",\"application/json\")\n",
    "response = urllib.request.urlopen(request, data=body.encode(\"utf-8\"))\n",
    "rescode = response.getcode()\n",
    "if(rescode==200):\n",
    "    response_body = response.read()\n",
    "    print(response_body.decode('utf-8'))\n",
    "else:\n",
    "    print(\"Error Code:\" + rescode)"
   ]
  },
  {
   "cell_type": "markdown",
   "id": "810997a7",
   "metadata": {},
   "source": [
    "### from naver api to python (crawling)"
   ]
  },
  {
   "cell_type": "markdown",
   "id": "5d9b9a62",
   "metadata": {},
   "source": [
    "- 2021-01-01 ~ 2021-05-27\n",
    "- 네이버쇼핑 패션의류 트렌드\n",
    "- 내 어플리케이션 : DataEngineeringTest"
   ]
  },
  {
   "cell_type": "code",
   "execution_count": 110,
   "id": "9c545068",
   "metadata": {
    "ExecuteTime": {
     "end_time": "2021-05-29T05:12:07.410701Z",
     "start_time": "2021-05-29T05:12:07.397701Z"
    }
   },
   "outputs": [],
   "source": [
    "def get_shop(client_id, client_secret) :\n",
    "    endpoint = 'https://openapi.naver.com/v1/datalab/shopping/categories'\n",
    "    bodys = \"{\\\"startDate\\\":\\\"2021-01-01\\\",\"\\\n",
    "    \"\\\"endDate\\\":\\\"2021-05-27\\\",\"\\\n",
    "    \"\\\"timeUnit\\\":\\\"date\\\",\"\\\n",
    "    \"\\\"category\\\":[{\\\"name\\\":\\\"패션의류\\\",\\\"param\\\":[\\\"50000000\\\"]}]}\"\n",
    "    \n",
    "    requests = urllib.request.Request(endpoint)\n",
    "    \n",
    "    requests.add_header('X-Naver-Client-Id', client_id)\n",
    "    requests.add_header('X-Naver-Client-Secret', client_secret)\n",
    "    requests.add_header('Content-Type', 'application/json')\n",
    "\n",
    "    response = urllib.request.urlopen(requests, data=bodys.encode('utf-8'))\n",
    "    \n",
    "    try :\n",
    "        response = urllib.request.urlopen(requests,  data=bodys.encode('utf-8'))\n",
    "    except :\n",
    "        logging.error(response.read())\n",
    "        sys.exit(1)\n",
    "    response = urllib.request.urlopen(requests,  data=bodys.encode('utf-8'))\n",
    "\n",
    "    if response.getcode() == 200 :\n",
    "        response_body = response.read()\n",
    "        contents = response_body.decode('utf-8')\n",
    "    else :\n",
    "        print(response.getcode())\n",
    "        print(response.read())\n",
    "        sys.exit(1)\n",
    "        \n",
    "    return contents"
   ]
  },
  {
   "cell_type": "code",
   "execution_count": 111,
   "id": "9cfa8927",
   "metadata": {
    "ExecuteTime": {
     "end_time": "2021-05-29T05:12:07.880136Z",
     "start_time": "2021-05-29T05:12:07.863811Z"
    }
   },
   "outputs": [],
   "source": [
    "# 개인정보\n",
    "host=' '\n",
    "user=' ' \n",
    "passwd=' '\n",
    "db=' '\n",
    "client_id = ' '\n",
    "client_secret= ' '"
   ]
  },
  {
   "cell_type": "markdown",
   "id": "ec6f5f60",
   "metadata": {},
   "source": [
    "## from python to mysql"
   ]
  },
  {
   "cell_type": "code",
   "execution_count": 123,
   "id": "ca23b69c",
   "metadata": {
    "ExecuteTime": {
     "end_time": "2021-05-29T05:15:46.682065Z",
     "start_time": "2021-05-29T05:15:46.676078Z"
    }
   },
   "outputs": [],
   "source": [
    "def main() :\n",
    "    # aws mysql 연결\n",
    "    try:\n",
    "        conn=pymysql.connect(host=host, \n",
    "                             user=user, \n",
    "                             passwd=passwd,\n",
    "                             db=db,\n",
    "                            use_unicode=True,\n",
    "                            charset = 'utf8')\n",
    "        cursor = conn.cursor()\n",
    "    except :\n",
    "        logging.error('could not connect to RDS')\n",
    "        sys.exit(1)\n",
    "        \n",
    "    shops = get_shop(client_id, client_secret)\n",
    "    \n",
    "    # json 변환\n",
    "    raw = json.loads(shops)\n",
    "    \n",
    "    # data, ratio 추출\n",
    "    datas=raw['results'][0]['data']\n",
    "    \n",
    "    # db 넣기 전 리스트에 담기\n",
    "    shop_content=[]\n",
    "    # column 값 key로 row값 value로 \n",
    "    for data in datas :\n",
    "        shop_content.append(\n",
    "        {\n",
    "       'dates' : data['period'],\n",
    "        'ratios' : data['ratio']\n",
    "        }\n",
    "        )\n",
    "    print(shop_content)"
   ]
  },
  {
   "cell_type": "code",
   "execution_count": 137,
   "id": "2e075307",
   "metadata": {
    "ExecuteTime": {
     "end_time": "2021-05-29T06:04:05.027309Z",
     "start_time": "2021-05-29T06:04:04.968046Z"
    }
   },
   "outputs": [],
   "source": [
    "shop_content = [{'dates': '2021-01-01', 'ratios': 64.00962}, {'dates': '2021-01-02', 'ratios': 72.16472}, {'dates': '2021-01-03', 'ratios': 79.08133}, {'dates': '2021-01-04', 'ratios': 67.25975}, {'dates': '2021-01-05', 'ratios': 66.39807}, {'dates': '2021-01-06', 'ratios': 67.53876}, {'dates': '2021-01-07', 'ratios': 68.62444}, {'dates': '2021-01-08', 'ratios': 65.21126}, {'dates': '2021-01-09', 'ratios': 73.9993}, {'dates': '2021-01-10', 'ratios': 83.32384}, {'dates': '2021-01-11', 'ratios': 68.64429}, {'dates': '2021-01-12', 'ratios': 66.28357}, {'dates': '2021-01-13', 'ratios': 63.97735}, {'dates': '2021-01-14', 'ratios': 60.16353}, {'dates': '2021-01-15', 'ratios': 54.99308}, {'dates': '2021-01-16', 'ratios': 65.2882}, {'dates': '2021-01-17', 'ratios': 75.1651}, {'dates': '2021-01-18', 'ratios': 64.61665}, {'dates': '2021-01-19', 'ratios': 61.45828}, {'dates': '2021-01-20', 'ratios': 59.49385}, {'dates': '2021-01-21', 'ratios': 57.71921}, {'dates': '2021-01-22', 'ratios': 54.4195}, {'dates': '2021-01-23', 'ratios': 64.17339}, {'dates': '2021-01-24', 'ratios': 72.29285}, {'dates': '2021-01-25', 'ratios': 60.85318}, {'dates': '2021-01-26', 'ratios': 62.88367}, {'dates': '2021-01-27', 'ratios': 60.20973}, {'dates': '2021-01-28', 'ratios': 57.81495}, {'dates': '2021-01-29', 'ratios': 52.18224}, {'dates': '2021-01-30', 'ratios': 61.19151}, {'dates': '2021-01-31', 'ratios': 71.06279}, {'dates': '2021-02-01', 'ratios': 62.67961}, {'dates': '2021-02-02', 'ratios': 60.86329}, {'dates': '2021-02-03', 'ratios': 59.81734}, {'dates': '2021-02-04', 'ratios': 57.21143}, {'dates': '2021-02-05', 'ratios': 52.03423}, {'dates': '2021-02-06', 'ratios': 60.8359}, {'dates': '2021-02-07', 'ratios': 71.95381}, {'dates': '2021-02-08', 'ratios': 57.29833}, {'dates': '2021-02-09', 'ratios': 51.98436}, {'dates': '2021-02-10', 'ratios': 48.36837}, {'dates': '2021-02-11', 'ratios': 53.91451}, {'dates': '2021-02-12', 'ratios': 56.60269}, {'dates': '2021-02-13', 'ratios': 69.00069}, {'dates': '2021-02-14', 'ratios': 85.05192}, {'dates': '2021-02-15', 'ratios': 70.84427}, {'dates': '2021-02-16', 'ratios': 68.16327}, {'dates': '2021-02-17', 'ratios': 65.02936}, {'dates': '2021-02-18', 'ratios': 61.07542}, {'dates': '2021-02-19', 'ratios': 56.61549}, {'dates': '2021-02-20', 'ratios': 69.81834}, {'dates': '2021-02-21', 'ratios': 84.46596}, {'dates': '2021-02-22', 'ratios': 74.05212}, {'dates': '2021-02-23', 'ratios': 68.74574}, {'dates': '2021-02-24', 'ratios': 65.05387}, {'dates': '2021-02-25', 'ratios': 63.49406}, {'dates': '2021-02-26', 'ratios': 58.37357}, {'dates': '2021-02-27', 'ratios': 71.5045}, {'dates': '2021-02-28', 'ratios': 83.11919}, {'dates': '2021-03-01', 'ratios': 92.78354}, {'dates': '2021-03-02', 'ratios': 67.5562}, {'dates': '2021-03-03', 'ratios': 67.30876}, {'dates': '2021-03-04', 'ratios': 69.08397}, {'dates': '2021-03-05', 'ratios': 63.97267}, {'dates': '2021-03-06', 'ratios': 81.17814}, {'dates': '2021-03-07', 'ratios': 96.779}, {'dates': '2021-03-08', 'ratios': 79.26694}, {'dates': '2021-03-09', 'ratios': 77.77782}, {'dates': '2021-03-10', 'ratios': 78.19005}, {'dates': '2021-03-11', 'ratios': 76.58103}, {'dates': '2021-03-12', 'ratios': 71.23601}, {'dates': '2021-03-13', 'ratios': 82.40371}, {'dates': '2021-03-14', 'ratios': 100}, {'dates': '2021-03-15', 'ratios': 84.26063}, {'dates': '2021-03-16', 'ratios': 82.98647}, {'dates': '2021-03-17', 'ratios': 83.07373}, {'dates': '2021-03-18', 'ratios': 78.96596}, {'dates': '2021-03-19', 'ratios': 71.14861}, {'dates': '2021-03-20', 'ratios': 86.42977}, {'dates': '2021-03-21', 'ratios': 97.61617}, {'dates': '2021-03-22', 'ratios': 79.60873}, {'dates': '2021-03-23', 'ratios': 77.87325}, {'dates': '2021-03-24', 'ratios': 76.92274}, {'dates': '2021-03-25', 'ratios': 73.44096}, {'dates': '2021-03-26', 'ratios': 67.46452}, {'dates': '2021-03-27', 'ratios': 82.52625}, {'dates': '2021-03-28', 'ratios': 94.69714}, {'dates': '2021-03-29', 'ratios': 80.33814}, {'dates': '2021-03-30', 'ratios': 79.08446}, {'dates': '2021-03-31', 'ratios': 76.48952}, {'dates': '2021-04-01', 'ratios': 75.07665}, {'dates': '2021-04-02', 'ratios': 68.29759}, {'dates': '2021-04-03', 'ratios': 84.73388}, {'dates': '2021-04-04', 'ratios': 92.63387}, {'dates': '2021-04-05', 'ratios': 77.42428}, {'dates': '2021-04-06', 'ratios': 76.75849}, {'dates': '2021-04-07', 'ratios': 75.94983}, {'dates': '2021-04-08', 'ratios': 71.27968}, {'dates': '2021-04-09', 'ratios': 64.40717}, {'dates': '2021-04-10', 'ratios': 73.26077}, {'dates': '2021-04-11', 'ratios': 86.32427}, {'dates': '2021-04-12', 'ratios': 74.8295}, {'dates': '2021-04-13', 'ratios': 69.57797}, {'dates': '2021-04-14', 'ratios': 66.86609}, {'dates': '2021-04-15', 'ratios': 64.24717}, {'dates': '2021-04-16', 'ratios': 61.28991}, {'dates': '2021-04-17', 'ratios': 68.71784}, {'dates': '2021-04-18', 'ratios': 78.51503}, {'dates': '2021-04-19', 'ratios': 70.72447}, {'dates': '2021-04-20', 'ratios': 75.41158}, {'dates': '2021-04-21', 'ratios': 78.14212}, {'dates': '2021-04-22', 'ratios': 75.63091}, {'dates': '2021-04-23', 'ratios': 67.8903}, {'dates': '2021-04-24', 'ratios': 77.15489}, {'dates': '2021-04-25', 'ratios': 90.95602}, {'dates': '2021-04-26', 'ratios': 77.64161}, {'dates': '2021-04-27', 'ratios': 74.6249}, {'dates': '2021-04-28', 'ratios': 73.85298}, {'dates': '2021-04-29', 'ratios': 70.70014}, {'dates': '2021-04-30', 'ratios': 62.3357}, {'dates': '2021-05-01', 'ratios': 74.15629}, {'dates': '2021-05-02', 'ratios': 81.17016}, {'dates': '2021-05-03', 'ratios': 69.70448}, {'dates': '2021-05-04', 'ratios': 65.91674}, {'dates': '2021-05-05', 'ratios': 78.22617}, {'dates': '2021-05-06', 'ratios': 70.29125}, {'dates': '2021-05-07', 'ratios': 63.84672}, {'dates': '2021-05-08', 'ratios': 71.15384}, {'dates': '2021-05-09', 'ratios': 83.17703}, {'dates': '2021-05-10', 'ratios': 75.24872}, {'dates': '2021-05-11', 'ratios': 74.26278}, {'dates': '2021-05-12', 'ratios': 76.17889}, {'dates': '2021-05-13', 'ratios': 76.84353}, {'dates': '2021-05-14', 'ratios': 73.3503}, {'dates': '2021-05-15', 'ratios': 82.71352}, {'dates': '2021-05-16', 'ratios': 95.66817}, {'dates': '2021-05-17', 'ratios': 77.45015}, {'dates': '2021-05-18', 'ratios': 72.87718}, {'dates': '2021-05-19', 'ratios': 85.78775}, {'dates': '2021-05-20', 'ratios': 75.75368}, {'dates': '2021-05-21', 'ratios': 66.12294}, {'dates': '2021-05-22', 'ratios': 75.2396}, {'dates': '2021-05-23', 'ratios': 85.57664}, {'dates': '2021-05-24', 'ratios': 75.21978}, {'dates': '2021-05-25', 'ratios': 73.43508}, {'dates': '2021-05-26', 'ratios': 72.81719}, {'dates': '2021-05-27', 'ratios': 68.57971}]"
   ]
  },
  {
   "cell_type": "code",
   "execution_count": 140,
   "id": "b030d751",
   "metadata": {
    "ExecuteTime": {
     "end_time": "2021-05-29T06:27:18.033446Z",
     "start_time": "2021-05-29T06:27:18.021902Z"
    }
   },
   "outputs": [
    {
     "data": {
      "text/plain": [
       "147"
      ]
     },
     "execution_count": 140,
     "metadata": {},
     "output_type": "execute_result"
    }
   ],
   "source": [
    "len(shop_content)"
   ]
  },
  {
   "cell_type": "code",
   "execution_count": 142,
   "id": "440f0888",
   "metadata": {
    "ExecuteTime": {
     "end_time": "2021-05-29T06:35:07.161867Z",
     "start_time": "2021-05-29T06:34:37.576720Z"
    }
   },
   "outputs": [],
   "source": [
    "conn=pymysql.connect(host=host, \n",
    "                             user=user, \n",
    "                             passwd=passwd,\n",
    "                             db=db,\n",
    "                            use_unicode=True,\n",
    "                            charset = 'utf8')\n",
    "cursor = conn.cursor()\n",
    "for content in shop_content :\n",
    "    sql = \"insert into shop_21(dates,ratio) values(%(dates)s, %(ratios)s);\"\n",
    "    cursor.execute(sql, content)\n",
    "conn.commit()\n",
    "conn.close()"
   ]
  },
  {
   "cell_type": "markdown",
   "id": "8ca36031",
   "metadata": {},
   "source": [
    "## from mysql to dataframe"
   ]
  },
  {
   "cell_type": "code",
   "execution_count": 2,
   "id": "f4551012",
   "metadata": {
    "ExecuteTime": {
     "end_time": "2021-05-29T06:48:45.377187Z",
     "start_time": "2021-05-29T06:48:45.373338Z"
    }
   },
   "outputs": [],
   "source": [
    "host=' '\n",
    "user=' ' \n",
    "passwd=' '\n",
    "db=' '\n",
    "client_id = ' '\n",
    "client_secret= ' '"
   ]
  },
  {
   "cell_type": "code",
   "execution_count": 3,
   "id": "7640bb6b",
   "metadata": {
    "ExecuteTime": {
     "end_time": "2021-05-29T06:49:05.239330Z",
     "start_time": "2021-05-29T06:49:05.234380Z"
    }
   },
   "outputs": [],
   "source": [
    "def get_data(host, user, db, passwd):\n",
    "    try:\n",
    "        conn=pymysql.connect(host=host, \n",
    "                             user=user, \n",
    "                             passwd=passwd,\n",
    "                             db=db,\n",
    "                            use_unicode=True,\n",
    "                            charset = 'utf8',\n",
    "                            cursorclass=pymysql.cursors.DictCursor)\n",
    "        cursor = conn.cursor()\n",
    "    except :\n",
    "        logging.error('could not connect to AWS RDS mysql.')\n",
    "        sys.exit(1)\n",
    "    cursor.execute('select * from shop_21')\n",
    "    result = cursor.fetchall()\n",
    "    conn.close()\n",
    "    \n",
    "    df = pd.DataFrame(result)\n",
    "    return df"
   ]
  },
  {
   "cell_type": "code",
   "execution_count": 14,
   "id": "683b52d4",
   "metadata": {
    "ExecuteTime": {
     "end_time": "2021-05-29T06:52:57.682065Z",
     "start_time": "2021-05-29T06:52:56.692108Z"
    }
   },
   "outputs": [
    {
     "data": {
      "text/html": [
       "<div>\n",
       "<style scoped>\n",
       "    .dataframe tbody tr th:only-of-type {\n",
       "        vertical-align: middle;\n",
       "    }\n",
       "\n",
       "    .dataframe tbody tr th {\n",
       "        vertical-align: top;\n",
       "    }\n",
       "\n",
       "    .dataframe thead th {\n",
       "        text-align: right;\n",
       "    }\n",
       "</style>\n",
       "<table border=\"1\" class=\"dataframe\">\n",
       "  <thead>\n",
       "    <tr style=\"text-align: right;\">\n",
       "      <th></th>\n",
       "      <th>dates</th>\n",
       "      <th>ratio</th>\n",
       "    </tr>\n",
       "  </thead>\n",
       "  <tbody>\n",
       "    <tr>\n",
       "      <th>0</th>\n",
       "      <td>2021-01-01</td>\n",
       "      <td>64</td>\n",
       "    </tr>\n",
       "    <tr>\n",
       "      <th>1</th>\n",
       "      <td>2021-01-02</td>\n",
       "      <td>72</td>\n",
       "    </tr>\n",
       "    <tr>\n",
       "      <th>2</th>\n",
       "      <td>2021-01-03</td>\n",
       "      <td>79</td>\n",
       "    </tr>\n",
       "    <tr>\n",
       "      <th>3</th>\n",
       "      <td>2021-01-04</td>\n",
       "      <td>67</td>\n",
       "    </tr>\n",
       "    <tr>\n",
       "      <th>4</th>\n",
       "      <td>2021-01-05</td>\n",
       "      <td>66</td>\n",
       "    </tr>\n",
       "    <tr>\n",
       "      <th>...</th>\n",
       "      <td>...</td>\n",
       "      <td>...</td>\n",
       "    </tr>\n",
       "    <tr>\n",
       "      <th>142</th>\n",
       "      <td>2021-05-23</td>\n",
       "      <td>86</td>\n",
       "    </tr>\n",
       "    <tr>\n",
       "      <th>143</th>\n",
       "      <td>2021-05-24</td>\n",
       "      <td>75</td>\n",
       "    </tr>\n",
       "    <tr>\n",
       "      <th>144</th>\n",
       "      <td>2021-05-25</td>\n",
       "      <td>73</td>\n",
       "    </tr>\n",
       "    <tr>\n",
       "      <th>145</th>\n",
       "      <td>2021-05-26</td>\n",
       "      <td>73</td>\n",
       "    </tr>\n",
       "    <tr>\n",
       "      <th>146</th>\n",
       "      <td>2021-05-27</td>\n",
       "      <td>69</td>\n",
       "    </tr>\n",
       "  </tbody>\n",
       "</table>\n",
       "<p>147 rows × 2 columns</p>\n",
       "</div>"
      ],
      "text/plain": [
       "         dates  ratio\n",
       "0   2021-01-01     64\n",
       "1   2021-01-02     72\n",
       "2   2021-01-03     79\n",
       "3   2021-01-04     67\n",
       "4   2021-01-05     66\n",
       "..         ...    ...\n",
       "142 2021-05-23     86\n",
       "143 2021-05-24     75\n",
       "144 2021-05-25     73\n",
       "145 2021-05-26     73\n",
       "146 2021-05-27     69\n",
       "\n",
       "[147 rows x 2 columns]"
      ]
     },
     "execution_count": 14,
     "metadata": {},
     "output_type": "execute_result"
    }
   ],
   "source": [
    "df_shopping_trend= get_data(host=host,\n",
    "user=user, \n",
    "passwd=passwd,\n",
    "db=db)\n",
    "df_shopping_trend"
   ]
  },
  {
   "cell_type": "code",
   "execution_count": 15,
   "id": "26c234a0",
   "metadata": {
    "ExecuteTime": {
     "end_time": "2021-05-29T06:52:58.582964Z",
     "start_time": "2021-05-29T06:52:58.560441Z"
    }
   },
   "outputs": [
    {
     "name": "stdout",
     "output_type": "stream",
     "text": [
      "<class 'pandas.core.frame.DataFrame'>\n",
      "RangeIndex: 147 entries, 0 to 146\n",
      "Data columns (total 2 columns):\n",
      " #   Column  Non-Null Count  Dtype         \n",
      "---  ------  --------------  -----         \n",
      " 0   dates   147 non-null    datetime64[ns]\n",
      " 1   ratio   147 non-null    int64         \n",
      "dtypes: datetime64[ns](1), int64(1)\n",
      "memory usage: 2.4 KB\n"
     ]
    }
   ],
   "source": [
    "df_shopping_trend.info()"
   ]
  },
  {
   "cell_type": "code",
   "execution_count": 16,
   "id": "65c2bcf2",
   "metadata": {
    "ExecuteTime": {
     "end_time": "2021-05-29T06:52:59.705433Z",
     "start_time": "2021-05-29T06:52:59.475583Z"
    }
   },
   "outputs": [
    {
     "data": {
      "text/plain": [
       "Text(0.5, 1.0, 'naver shopping 패션의류 trend')"
      ]
     },
     "execution_count": 16,
     "metadata": {},
     "output_type": "execute_result"
    },
    {
     "data": {
      "image/png": "[encoded data removed]",
      "text/plain": [
       "<Figure size 1080x360 with 1 Axes>"
      ]
     },
     "metadata": {
      "needs_background": "light"
     },
     "output_type": "display_data"
    }
   ],
   "source": [
    "df_shopping_trend.plot.line(x='dates', y='ratio', figsize=(15,5))\n",
    "plt.title('naver shopping 패션의류 trend')"
   ]
  },
  {
   "cell_type": "code",
   "execution_count": null,
   "id": "5fd46e40",
   "metadata": {},
   "outputs": [],
   "source": []
  },
  {
   "cell_type": "code",
   "execution_count": null,
   "id": "9c6b605d",
   "metadata": {},
   "outputs": [],
   "source": []
  },
  {
   "cell_type": "code",
   "execution_count": null,
   "id": "81773955",
   "metadata": {},
   "outputs": [],
   "source": []
  }
 ],
 "metadata": {
  "kernelspec": {
   "display_name": "Python 3",
   "language": "python",
   "name": "python3"
  },
  "language_info": {
   "codemirror_mode": {
    "name": "ipython",
    "version": 3
   },
   "file_extension": ".py",
   "mimetype": "text/x-python",
   "name": "python",
   "nbconvert_exporter": "python",
   "pygments_lexer": "ipython3",
   "version": "3.7.3"
  },
  "latex_envs": {
   "LaTeX_envs_menu_present": true,
   "autoclose": true,
   "autocomplete": true,
   "bibliofile": "biblio.bib",
   "cite_by": "apalike",
   "current_citInitial": 1,
   "eqLabelWithNumbers": true,
   "eqNumInitial": 1,
   "hotkeys": {
    "equation": "Ctrl-E",
    "itemize": "Ctrl-I"
   },
   "labels_anchors": false,
   "latex_user_defs": false,
   "report_style_numbering": false,
   "user_envs_cfg": false
  },
  "toc": {
   "base_numbering": 1,
   "nav_menu": {},
   "number_sections": true,
   "sideBar": true,
   "skip_h1_title": false,
   "title_cell": "Table of Contents",
   "title_sidebar": "Contents",
   "toc_cell": false,
   "toc_position": {
    "height": "calc(100% - 180px)",
    "left": "10px",
    "top": "150px",
    "width": "165px"
   },
   "toc_section_display": true,
   "toc_window_display": true
  },
  "varInspector": {
   "cols": {
    "lenName": 16,
    "lenType": 16,
    "lenVar": 40
   },
   "kernels_config": {
    "python": {
     "delete_cmd_postfix": "",
     "delete_cmd_prefix": "del ",
     "library": "var_list.py",
     "varRefreshCmd": "print(var_dic_list())"
    },
    "r": {
     "delete_cmd_postfix": ") ",
     "delete_cmd_prefix": "rm(",
     "library": "var_list.r",
     "varRefreshCmd": "cat(var_dic_list()) "
    }
   },
   "types_to_exclude": [
    "module",
    "function",
    "builtin_function_or_method",
    "instance",
    "_Feature"
   ],
   "window_display": false
  }
 },
 "nbformat": 4,
 "nbformat_minor": 5
}
